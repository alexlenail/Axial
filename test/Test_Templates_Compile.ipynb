{
 "cells": [
  {
   "cell_type": "code",
   "execution_count": 1,
   "metadata": {},
   "outputs": [],
   "source": [
    "import numpy as np\n",
    "import pandas as pd\n",
    "\n",
    "# import sys\n",
    "# sys.path.append('../axial')\n",
    "from axial import axial as axi"
   ]
  },
  {
   "cell_type": "markdown",
   "metadata": {},
   "source": [
    "## Volcano"
   ]
  },
  {
   "cell_type": "code",
   "execution_count": 2,
   "metadata": {},
   "outputs": [
    {
     "data": {
      "text/html": [
       "<div>\n",
       "<style scoped>\n",
       "    .dataframe tbody tr th:only-of-type {\n",
       "        vertical-align: middle;\n",
       "    }\n",
       "\n",
       "    .dataframe tbody tr th {\n",
       "        vertical-align: top;\n",
       "    }\n",
       "\n",
       "    .dataframe thead th {\n",
       "        text-align: right;\n",
       "    }\n",
       "</style>\n",
       "<table border=\"1\" class=\"dataframe\">\n",
       "  <thead>\n",
       "    <tr style=\"text-align: right;\">\n",
       "      <th></th>\n",
       "      <th>Base mean</th>\n",
       "      <th>log2(FC)</th>\n",
       "      <th>StdErr</th>\n",
       "      <th>Wald-Stats</th>\n",
       "      <th>P-value</th>\n",
       "      <th>P-adj</th>\n",
       "      <th>q</th>\n",
       "      <th>logFC</th>\n",
       "    </tr>\n",
       "    <tr>\n",
       "      <th>GeneID</th>\n",
       "      <th></th>\n",
       "      <th></th>\n",
       "      <th></th>\n",
       "      <th></th>\n",
       "      <th></th>\n",
       "      <th></th>\n",
       "      <th></th>\n",
       "      <th></th>\n",
       "    </tr>\n",
       "  </thead>\n",
       "  <tbody>\n",
       "    <tr>\n",
       "      <th>TAGLN2</th>\n",
       "      <td>3702.951794</td>\n",
       "      <td>-2.954344</td>\n",
       "      <td>0.056286</td>\n",
       "      <td>52.488180</td>\n",
       "      <td>0.0</td>\n",
       "      <td>0.0</td>\n",
       "      <td>302.671</td>\n",
       "      <td>-2.954</td>\n",
       "    </tr>\n",
       "    <tr>\n",
       "      <th>UHMK1</th>\n",
       "      <td>3543.839403</td>\n",
       "      <td>-3.225018</td>\n",
       "      <td>0.067672</td>\n",
       "      <td>47.656533</td>\n",
       "      <td>0.0</td>\n",
       "      <td>0.0</td>\n",
       "      <td>302.671</td>\n",
       "      <td>-3.225</td>\n",
       "    </tr>\n",
       "    <tr>\n",
       "      <th>CSRP1</th>\n",
       "      <td>4592.587776</td>\n",
       "      <td>1.856967</td>\n",
       "      <td>0.046232</td>\n",
       "      <td>-40.165842</td>\n",
       "      <td>0.0</td>\n",
       "      <td>0.0</td>\n",
       "      <td>302.671</td>\n",
       "      <td>1.857</td>\n",
       "    </tr>\n",
       "    <tr>\n",
       "      <th>CAPN2</th>\n",
       "      <td>10417.715365</td>\n",
       "      <td>2.116233</td>\n",
       "      <td>0.045564</td>\n",
       "      <td>-46.445277</td>\n",
       "      <td>0.0</td>\n",
       "      <td>0.0</td>\n",
       "      <td>302.671</td>\n",
       "      <td>2.116</td>\n",
       "    </tr>\n",
       "    <tr>\n",
       "      <th>RHOB</th>\n",
       "      <td>10401.154292</td>\n",
       "      <td>-1.758295</td>\n",
       "      <td>0.045384</td>\n",
       "      <td>38.742385</td>\n",
       "      <td>0.0</td>\n",
       "      <td>0.0</td>\n",
       "      <td>302.671</td>\n",
       "      <td>-1.758</td>\n",
       "    </tr>\n",
       "  </tbody>\n",
       "</table>\n",
       "</div>"
      ],
      "text/plain": [
       "           Base mean  log2(FC)    StdErr  Wald-Stats  P-value  P-adj        q  \\\n",
       "GeneID                                                                          \n",
       "TAGLN2   3702.951794 -2.954344  0.056286   52.488180      0.0    0.0  302.671   \n",
       "UHMK1    3543.839403 -3.225018  0.067672   47.656533      0.0    0.0  302.671   \n",
       "CSRP1    4592.587776  1.856967  0.046232  -40.165842      0.0    0.0  302.671   \n",
       "CAPN2   10417.715365  2.116233  0.045564  -46.445277      0.0    0.0  302.671   \n",
       "RHOB    10401.154292 -1.758295  0.045384   38.742385      0.0    0.0  302.671   \n",
       "\n",
       "        logFC  \n",
       "GeneID         \n",
       "TAGLN2 -2.954  \n",
       "UHMK1  -3.225  \n",
       "CSRP1   1.857  \n",
       "CAPN2   2.116  \n",
       "RHOB   -1.758  "
      ]
     },
     "execution_count": 2,
     "metadata": {},
     "output_type": "execute_result"
    }
   ],
   "source": [
    "df = pd.read_csv('../docs/example/data/human_differential.csv', index_col=0)\n",
    "df.head()"
   ]
  },
  {
   "cell_type": "code",
   "execution_count": 3,
   "metadata": {
    "scrolled": true
   },
   "outputs": [
    {
     "data": {
      "text/plain": [
       "PosixPath('/Users/alex/Desktop/test')"
      ]
     },
     "execution_count": 3,
     "metadata": {},
     "output_type": "execute_result"
    }
   ],
   "source": [
    "axi.volcano(df, output_dir=\"/Users/alex/Desktop/test\")"
   ]
  },
  {
   "cell_type": "code",
   "execution_count": null,
   "metadata": {},
   "outputs": [],
   "source": []
  },
  {
   "cell_type": "markdown",
   "metadata": {},
   "source": [
    "## Bar"
   ]
  },
  {
   "cell_type": "code",
   "execution_count": null,
   "metadata": {},
   "outputs": [],
   "source": []
  },
  {
   "cell_type": "code",
   "execution_count": null,
   "metadata": {},
   "outputs": [],
   "source": []
  },
  {
   "cell_type": "markdown",
   "metadata": {},
   "source": [
    "## Graph"
   ]
  },
  {
   "cell_type": "code",
   "execution_count": null,
   "metadata": {},
   "outputs": [],
   "source": []
  },
  {
   "cell_type": "code",
   "execution_count": null,
   "metadata": {},
   "outputs": [],
   "source": []
  },
  {
   "cell_type": "markdown",
   "metadata": {},
   "source": [
    "## Braid"
   ]
  },
  {
   "cell_type": "code",
   "execution_count": null,
   "metadata": {},
   "outputs": [],
   "source": []
  },
  {
   "cell_type": "code",
   "execution_count": null,
   "metadata": {},
   "outputs": [],
   "source": []
  },
  {
   "cell_type": "code",
   "execution_count": null,
   "metadata": {},
   "outputs": [],
   "source": []
  },
  {
   "cell_type": "markdown",
   "metadata": {},
   "source": [
    "## Heatmap"
   ]
  },
  {
   "cell_type": "code",
   "execution_count": null,
   "metadata": {},
   "outputs": [],
   "source": []
  },
  {
   "cell_type": "code",
   "execution_count": null,
   "metadata": {},
   "outputs": [],
   "source": []
  },
  {
   "cell_type": "code",
   "execution_count": null,
   "metadata": {},
   "outputs": [],
   "source": []
  }
 ],
 "metadata": {
  "kernelspec": {
   "display_name": "Python 3",
   "language": "python",
   "name": "python3"
  },
  "language_info": {
   "codemirror_mode": {
    "name": "ipython",
    "version": 3
   },
   "file_extension": ".py",
   "mimetype": "text/x-python",
   "name": "python",
   "nbconvert_exporter": "python",
   "pygments_lexer": "ipython3",
   "version": "3.7.0"
  }
 },
 "nbformat": 4,
 "nbformat_minor": 2
}
