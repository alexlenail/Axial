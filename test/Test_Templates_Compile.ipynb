{
 "cells": [
  {
   "cell_type": "code",
   "execution_count": 1,
   "metadata": {},
   "outputs": [],
   "source": [
    "import numpy as np\n",
    "import pandas as pd\n",
    "import networkx as nx\n",
    "from networkx.readwrite import json_graph as nx_json\n",
    "\n",
    "# python setup.py develop\n",
    "from axial import axial as ax"
   ]
  },
  {
   "cell_type": "markdown",
   "metadata": {},
   "source": [
    "## Volcano"
   ]
  },
  {
   "cell_type": "code",
   "execution_count": 2,
   "metadata": {},
   "outputs": [
    {
     "data": {
      "text/html": [
       "<div>\n",
       "<style scoped>\n",
       "    .dataframe tbody tr th:only-of-type {\n",
       "        vertical-align: middle;\n",
       "    }\n",
       "\n",
       "    .dataframe tbody tr th {\n",
       "        vertical-align: top;\n",
       "    }\n",
       "\n",
       "    .dataframe thead th {\n",
       "        text-align: right;\n",
       "    }\n",
       "</style>\n",
       "<table border=\"1\" class=\"dataframe\">\n",
       "  <thead>\n",
       "    <tr style=\"text-align: right;\">\n",
       "      <th></th>\n",
       "      <th>Base mean</th>\n",
       "      <th>log2(FC)</th>\n",
       "      <th>StdErr</th>\n",
       "      <th>Wald-Stats</th>\n",
       "      <th>P-value</th>\n",
       "      <th>P-adj</th>\n",
       "      <th>q</th>\n",
       "      <th>logFC</th>\n",
       "    </tr>\n",
       "    <tr>\n",
       "      <th>GeneID</th>\n",
       "      <th></th>\n",
       "      <th></th>\n",
       "      <th></th>\n",
       "      <th></th>\n",
       "      <th></th>\n",
       "      <th></th>\n",
       "      <th></th>\n",
       "      <th></th>\n",
       "    </tr>\n",
       "  </thead>\n",
       "  <tbody>\n",
       "    <tr>\n",
       "      <th>TAGLN2</th>\n",
       "      <td>3702.951794</td>\n",
       "      <td>-2.954344</td>\n",
       "      <td>0.056286</td>\n",
       "      <td>52.488180</td>\n",
       "      <td>0.0</td>\n",
       "      <td>0.0</td>\n",
       "      <td>302.671</td>\n",
       "      <td>-2.954</td>\n",
       "    </tr>\n",
       "    <tr>\n",
       "      <th>UHMK1</th>\n",
       "      <td>3543.839403</td>\n",
       "      <td>-3.225018</td>\n",
       "      <td>0.067672</td>\n",
       "      <td>47.656533</td>\n",
       "      <td>0.0</td>\n",
       "      <td>0.0</td>\n",
       "      <td>302.671</td>\n",
       "      <td>-3.225</td>\n",
       "    </tr>\n",
       "    <tr>\n",
       "      <th>CSRP1</th>\n",
       "      <td>4592.587776</td>\n",
       "      <td>1.856967</td>\n",
       "      <td>0.046232</td>\n",
       "      <td>-40.165842</td>\n",
       "      <td>0.0</td>\n",
       "      <td>0.0</td>\n",
       "      <td>302.671</td>\n",
       "      <td>1.857</td>\n",
       "    </tr>\n",
       "    <tr>\n",
       "      <th>CAPN2</th>\n",
       "      <td>10417.715365</td>\n",
       "      <td>2.116233</td>\n",
       "      <td>0.045564</td>\n",
       "      <td>-46.445277</td>\n",
       "      <td>0.0</td>\n",
       "      <td>0.0</td>\n",
       "      <td>302.671</td>\n",
       "      <td>2.116</td>\n",
       "    </tr>\n",
       "    <tr>\n",
       "      <th>RHOB</th>\n",
       "      <td>10401.154292</td>\n",
       "      <td>-1.758295</td>\n",
       "      <td>0.045384</td>\n",
       "      <td>38.742385</td>\n",
       "      <td>0.0</td>\n",
       "      <td>0.0</td>\n",
       "      <td>302.671</td>\n",
       "      <td>-1.758</td>\n",
       "    </tr>\n",
       "  </tbody>\n",
       "</table>\n",
       "</div>"
      ],
      "text/plain": [
       "           Base mean  log2(FC)    StdErr  Wald-Stats  P-value  P-adj        q  \\\n",
       "GeneID                                                                          \n",
       "TAGLN2   3702.951794 -2.954344  0.056286   52.488180      0.0    0.0  302.671   \n",
       "UHMK1    3543.839403 -3.225018  0.067672   47.656533      0.0    0.0  302.671   \n",
       "CSRP1    4592.587776  1.856967  0.046232  -40.165842      0.0    0.0  302.671   \n",
       "CAPN2   10417.715365  2.116233  0.045564  -46.445277      0.0    0.0  302.671   \n",
       "RHOB    10401.154292 -1.758295  0.045384   38.742385      0.0    0.0  302.671   \n",
       "\n",
       "        logFC  \n",
       "GeneID         \n",
       "TAGLN2 -2.954  \n",
       "UHMK1  -3.225  \n",
       "CSRP1   1.857  \n",
       "CAPN2   2.116  \n",
       "RHOB   -1.758  "
      ]
     },
     "execution_count": 2,
     "metadata": {},
     "output_type": "execute_result"
    }
   ],
   "source": [
    "df = pd.read_csv('../docs/example/data/human_differential.csv', index_col=0)\n",
    "df.head()"
   ]
  },
  {
   "cell_type": "code",
   "execution_count": 3,
   "metadata": {
    "scrolled": true
   },
   "outputs": [
    {
     "data": {
      "text/plain": [
       "PosixPath('/Users/alex/Documents/Axial/docs/example/volcano.html')"
      ]
     },
     "execution_count": 3,
     "metadata": {},
     "output_type": "execute_result"
    }
   ],
   "source": [
    "ax.volcano(df, output_dir=\"../docs/example/\", data_mode=\"inline\", version=\"latest\")"
   ]
  },
  {
   "cell_type": "markdown",
   "metadata": {},
   "source": [
    "## Bar"
   ]
  },
  {
   "cell_type": "code",
   "execution_count": 4,
   "metadata": {
    "scrolled": true
   },
   "outputs": [
    {
     "data": {
      "text/html": [
       "<div>\n",
       "<style scoped>\n",
       "    .dataframe tbody tr th:only-of-type {\n",
       "        vertical-align: middle;\n",
       "    }\n",
       "\n",
       "    .dataframe tbody tr th {\n",
       "        vertical-align: top;\n",
       "    }\n",
       "\n",
       "    .dataframe thead th {\n",
       "        text-align: right;\n",
       "    }\n",
       "</style>\n",
       "<table border=\"1\" class=\"dataframe\">\n",
       "  <thead>\n",
       "    <tr style=\"text-align: right;\">\n",
       "      <th></th>\n",
       "      <th>Base mean</th>\n",
       "      <th>log2(FC)</th>\n",
       "      <th>StdErr</th>\n",
       "      <th>Wald-Stats</th>\n",
       "      <th>P-value</th>\n",
       "      <th>P-adj</th>\n",
       "      <th>q</th>\n",
       "      <th>logFC</th>\n",
       "    </tr>\n",
       "    <tr>\n",
       "      <th>GeneID</th>\n",
       "      <th></th>\n",
       "      <th></th>\n",
       "      <th></th>\n",
       "      <th></th>\n",
       "      <th></th>\n",
       "      <th></th>\n",
       "      <th></th>\n",
       "      <th></th>\n",
       "    </tr>\n",
       "  </thead>\n",
       "  <tbody>\n",
       "    <tr>\n",
       "      <th>CTSF</th>\n",
       "      <td>530.623969</td>\n",
       "      <td>7.625389</td>\n",
       "      <td>0.305383</td>\n",
       "      <td>24.969883</td>\n",
       "      <td>1.298958e-137</td>\n",
       "      <td>3.458606e-133</td>\n",
       "      <td>132.46</td>\n",
       "      <td>7.63</td>\n",
       "    </tr>\n",
       "    <tr>\n",
       "      <th>AC006039.4</th>\n",
       "      <td>69.056857</td>\n",
       "      <td>2.395232</td>\n",
       "      <td>0.188938</td>\n",
       "      <td>12.677335</td>\n",
       "      <td>7.897114e-37</td>\n",
       "      <td>1.051343e-32</td>\n",
       "      <td>31.98</td>\n",
       "      <td>2.40</td>\n",
       "    </tr>\n",
       "    <tr>\n",
       "      <th>PRSS12</th>\n",
       "      <td>5631.132313</td>\n",
       "      <td>2.155079</td>\n",
       "      <td>0.171747</td>\n",
       "      <td>12.548020</td>\n",
       "      <td>4.075745e-36</td>\n",
       "      <td>3.617360e-32</td>\n",
       "      <td>31.44</td>\n",
       "      <td>2.16</td>\n",
       "    </tr>\n",
       "    <tr>\n",
       "      <th>SOX7</th>\n",
       "      <td>612.479651</td>\n",
       "      <td>2.390252</td>\n",
       "      <td>0.203622</td>\n",
       "      <td>11.738663</td>\n",
       "      <td>8.075288e-32</td>\n",
       "      <td>5.375316e-28</td>\n",
       "      <td>27.27</td>\n",
       "      <td>2.39</td>\n",
       "    </tr>\n",
       "    <tr>\n",
       "      <th>SLC1A6</th>\n",
       "      <td>345.256285</td>\n",
       "      <td>2.108443</td>\n",
       "      <td>0.181737</td>\n",
       "      <td>11.601616</td>\n",
       "      <td>4.043717e-31</td>\n",
       "      <td>2.153360e-27</td>\n",
       "      <td>26.67</td>\n",
       "      <td>2.11</td>\n",
       "    </tr>\n",
       "  </tbody>\n",
       "</table>\n",
       "</div>"
      ],
      "text/plain": [
       "              Base mean  log2(FC)    StdErr  Wald-Stats        P-value  \\\n",
       "GeneID                                                                   \n",
       "CTSF         530.623969  7.625389  0.305383   24.969883  1.298958e-137   \n",
       "AC006039.4    69.056857  2.395232  0.188938   12.677335   7.897114e-37   \n",
       "PRSS12      5631.132313  2.155079  0.171747   12.548020   4.075745e-36   \n",
       "SOX7         612.479651  2.390252  0.203622   11.738663   8.075288e-32   \n",
       "SLC1A6       345.256285  2.108443  0.181737   11.601616   4.043717e-31   \n",
       "\n",
       "                    P-adj       q  logFC  \n",
       "GeneID                                    \n",
       "CTSF        3.458606e-133  132.46   7.63  \n",
       "AC006039.4   1.051343e-32   31.98   2.40  \n",
       "PRSS12       3.617360e-32   31.44   2.16  \n",
       "SOX7         5.375316e-28   27.27   2.39  \n",
       "SLC1A6       2.153360e-27   26.67   2.11  "
      ]
     },
     "execution_count": 4,
     "metadata": {},
     "output_type": "execute_result"
    }
   ],
   "source": [
    "df2 = pd.read_csv('../docs/example/data/ipsc_differential.csv', index_col=0)\n",
    "df2.head()"
   ]
  },
  {
   "cell_type": "code",
   "execution_count": 5,
   "metadata": {},
   "outputs": [
    {
     "data": {
      "text/plain": [
       "PosixPath('/Users/alex/Documents/Axial/docs/example/bar.html')"
      ]
     },
     "execution_count": 5,
     "metadata": {},
     "output_type": "execute_result"
    }
   ],
   "source": [
    "ax.bar({'human':df,'ipsc':df2}, output_dir=\"../docs/example/\", data_mode=\"inline\", version=\"latest\")"
   ]
  },
  {
   "cell_type": "markdown",
   "metadata": {},
   "source": [
    "## Braid"
   ]
  },
  {
   "cell_type": "code",
   "execution_count": 6,
   "metadata": {},
   "outputs": [
    {
     "data": {
      "text/html": [
       "<div>\n",
       "<style scoped>\n",
       "    .dataframe tbody tr th:only-of-type {\n",
       "        vertical-align: middle;\n",
       "    }\n",
       "\n",
       "    .dataframe tbody tr th {\n",
       "        vertical-align: top;\n",
       "    }\n",
       "\n",
       "    .dataframe thead th {\n",
       "        text-align: right;\n",
       "    }\n",
       "</style>\n",
       "<table border=\"1\" class=\"dataframe\">\n",
       "  <thead>\n",
       "    <tr style=\"text-align: right;\">\n",
       "      <th></th>\n",
       "      <th>Human_ABCD1_1</th>\n",
       "      <th>Human_ABCD1_2</th>\n",
       "      <th>Human_ABCD1_3</th>\n",
       "      <th>Human_NT_1</th>\n",
       "      <th>Human_NT_2</th>\n",
       "      <th>Human_NT_3</th>\n",
       "    </tr>\n",
       "  </thead>\n",
       "  <tbody>\n",
       "    <tr>\n",
       "      <th>DDX11L1</th>\n",
       "      <td>0.000</td>\n",
       "      <td>1.217</td>\n",
       "      <td>0.920</td>\n",
       "      <td>0.000</td>\n",
       "      <td>1.988</td>\n",
       "      <td>0.867</td>\n",
       "    </tr>\n",
       "    <tr>\n",
       "      <th>WASH7P</th>\n",
       "      <td>25.774</td>\n",
       "      <td>38.939</td>\n",
       "      <td>18.398</td>\n",
       "      <td>40.293</td>\n",
       "      <td>56.661</td>\n",
       "      <td>28.625</td>\n",
       "    </tr>\n",
       "    <tr>\n",
       "      <th>MIR6859-1</th>\n",
       "      <td>9.205</td>\n",
       "      <td>8.518</td>\n",
       "      <td>7.359</td>\n",
       "      <td>11.664</td>\n",
       "      <td>2.982</td>\n",
       "      <td>6.939</td>\n",
       "    </tr>\n",
       "    <tr>\n",
       "      <th>RP11-34P13.7</th>\n",
       "      <td>0.000</td>\n",
       "      <td>0.000</td>\n",
       "      <td>0.000</td>\n",
       "      <td>0.000</td>\n",
       "      <td>0.994</td>\n",
       "      <td>0.000</td>\n",
       "    </tr>\n",
       "    <tr>\n",
       "      <th>RP11-34P13.15</th>\n",
       "      <td>1.841</td>\n",
       "      <td>0.000</td>\n",
       "      <td>0.000</td>\n",
       "      <td>0.000</td>\n",
       "      <td>0.000</td>\n",
       "      <td>0.867</td>\n",
       "    </tr>\n",
       "  </tbody>\n",
       "</table>\n",
       "</div>"
      ],
      "text/plain": [
       "               Human_ABCD1_1  Human_ABCD1_2  Human_ABCD1_3  Human_NT_1  \\\n",
       "DDX11L1                0.000          1.217          0.920       0.000   \n",
       "WASH7P                25.774         38.939         18.398      40.293   \n",
       "MIR6859-1              9.205          8.518          7.359      11.664   \n",
       "RP11-34P13.7           0.000          0.000          0.000       0.000   \n",
       "RP11-34P13.15          1.841          0.000          0.000       0.000   \n",
       "\n",
       "               Human_NT_2  Human_NT_3  \n",
       "DDX11L1             1.988       0.867  \n",
       "WASH7P             56.661      28.625  \n",
       "MIR6859-1           2.982       6.939  \n",
       "RP11-34P13.7        0.994       0.000  \n",
       "RP11-34P13.15       0.000       0.867  "
      ]
     },
     "execution_count": 6,
     "metadata": {},
     "output_type": "execute_result"
    }
   ],
   "source": [
    "df = pd.read_csv('../docs/example/data/human_counts.csv', index_col=0)\n",
    "df.head()"
   ]
  },
  {
   "cell_type": "code",
   "execution_count": 7,
   "metadata": {},
   "outputs": [
    {
     "data": {
      "text/html": [
       "<div>\n",
       "<style scoped>\n",
       "    .dataframe tbody tr th:only-of-type {\n",
       "        vertical-align: middle;\n",
       "    }\n",
       "\n",
       "    .dataframe tbody tr th {\n",
       "        vertical-align: top;\n",
       "    }\n",
       "\n",
       "    .dataframe thead th {\n",
       "        text-align: right;\n",
       "    }\n",
       "</style>\n",
       "<table border=\"1\" class=\"dataframe\">\n",
       "  <thead>\n",
       "    <tr style=\"text-align: right;\">\n",
       "      <th></th>\n",
       "      <th>system</th>\n",
       "      <th>condition</th>\n",
       "    </tr>\n",
       "  </thead>\n",
       "  <tbody>\n",
       "    <tr>\n",
       "      <th>Human_ABCD1_1</th>\n",
       "      <td>Human</td>\n",
       "      <td>ABCD1</td>\n",
       "    </tr>\n",
       "    <tr>\n",
       "      <th>Human_ABCD1_2</th>\n",
       "      <td>Human</td>\n",
       "      <td>ABCD1</td>\n",
       "    </tr>\n",
       "    <tr>\n",
       "      <th>Human_ABCD1_3</th>\n",
       "      <td>Human</td>\n",
       "      <td>ABCD1</td>\n",
       "    </tr>\n",
       "    <tr>\n",
       "      <th>Human_NT_1</th>\n",
       "      <td>Human</td>\n",
       "      <td>NT</td>\n",
       "    </tr>\n",
       "    <tr>\n",
       "      <th>Human_NT_2</th>\n",
       "      <td>Human</td>\n",
       "      <td>NT</td>\n",
       "    </tr>\n",
       "  </tbody>\n",
       "</table>\n",
       "</div>"
      ],
      "text/plain": [
       "              system condition\n",
       "Human_ABCD1_1  Human     ABCD1\n",
       "Human_ABCD1_2  Human     ABCD1\n",
       "Human_ABCD1_3  Human     ABCD1\n",
       "Human_NT_1     Human        NT\n",
       "Human_NT_2     Human        NT"
      ]
     },
     "execution_count": 7,
     "metadata": {},
     "output_type": "execute_result"
    }
   ],
   "source": [
    "classes = pd.read_csv('../docs/example/data/human_classes.csv', index_col=0)\n",
    "classes.head()"
   ]
  },
  {
   "cell_type": "code",
   "execution_count": 8,
   "metadata": {},
   "outputs": [
    {
     "data": {
      "text/plain": [
       "PosixPath('/Users/alex/Documents/Axial/docs/example/braid.html')"
      ]
     },
     "execution_count": 8,
     "metadata": {},
     "output_type": "execute_result"
    }
   ],
   "source": [
    "ax.braid(df, classes, output_dir=\"../docs/example/\", data_mode=\"inline\", version=\"latest\")"
   ]
  },
  {
   "cell_type": "markdown",
   "metadata": {},
   "source": [
    "## Heatmap"
   ]
  },
  {
   "cell_type": "code",
   "execution_count": 9,
   "metadata": {},
   "outputs": [
    {
     "data": {
      "text/html": [
       "<div>\n",
       "<style scoped>\n",
       "    .dataframe tbody tr th:only-of-type {\n",
       "        vertical-align: middle;\n",
       "    }\n",
       "\n",
       "    .dataframe tbody tr th {\n",
       "        vertical-align: top;\n",
       "    }\n",
       "\n",
       "    .dataframe thead th {\n",
       "        text-align: right;\n",
       "    }\n",
       "</style>\n",
       "<table border=\"1\" class=\"dataframe\">\n",
       "  <thead>\n",
       "    <tr style=\"text-align: right;\">\n",
       "      <th></th>\n",
       "      <th>Human_ABCD1_1</th>\n",
       "      <th>Human_ABCD1_2</th>\n",
       "      <th>Human_ABCD1_3</th>\n",
       "      <th>Human_NT_1</th>\n",
       "      <th>Human_NT_2</th>\n",
       "      <th>Human_NT_3</th>\n",
       "    </tr>\n",
       "  </thead>\n",
       "  <tbody>\n",
       "    <tr>\n",
       "      <th>DDX11L1</th>\n",
       "      <td>0.000</td>\n",
       "      <td>1.217</td>\n",
       "      <td>0.920</td>\n",
       "      <td>0.000</td>\n",
       "      <td>1.988</td>\n",
       "      <td>0.867</td>\n",
       "    </tr>\n",
       "    <tr>\n",
       "      <th>WASH7P</th>\n",
       "      <td>25.774</td>\n",
       "      <td>38.939</td>\n",
       "      <td>18.398</td>\n",
       "      <td>40.293</td>\n",
       "      <td>56.661</td>\n",
       "      <td>28.625</td>\n",
       "    </tr>\n",
       "    <tr>\n",
       "      <th>MIR6859-1</th>\n",
       "      <td>9.205</td>\n",
       "      <td>8.518</td>\n",
       "      <td>7.359</td>\n",
       "      <td>11.664</td>\n",
       "      <td>2.982</td>\n",
       "      <td>6.939</td>\n",
       "    </tr>\n",
       "    <tr>\n",
       "      <th>RP11-34P13.7</th>\n",
       "      <td>0.000</td>\n",
       "      <td>0.000</td>\n",
       "      <td>0.000</td>\n",
       "      <td>0.000</td>\n",
       "      <td>0.994</td>\n",
       "      <td>0.000</td>\n",
       "    </tr>\n",
       "    <tr>\n",
       "      <th>RP11-34P13.15</th>\n",
       "      <td>1.841</td>\n",
       "      <td>0.000</td>\n",
       "      <td>0.000</td>\n",
       "      <td>0.000</td>\n",
       "      <td>0.000</td>\n",
       "      <td>0.867</td>\n",
       "    </tr>\n",
       "  </tbody>\n",
       "</table>\n",
       "</div>"
      ],
      "text/plain": [
       "               Human_ABCD1_1  Human_ABCD1_2  Human_ABCD1_3  Human_NT_1  \\\n",
       "DDX11L1                0.000          1.217          0.920       0.000   \n",
       "WASH7P                25.774         38.939         18.398      40.293   \n",
       "MIR6859-1              9.205          8.518          7.359      11.664   \n",
       "RP11-34P13.7           0.000          0.000          0.000       0.000   \n",
       "RP11-34P13.15          1.841          0.000          0.000       0.000   \n",
       "\n",
       "               Human_NT_2  Human_NT_3  \n",
       "DDX11L1             1.988       0.867  \n",
       "WASH7P             56.661      28.625  \n",
       "MIR6859-1           2.982       6.939  \n",
       "RP11-34P13.7        0.994       0.000  \n",
       "RP11-34P13.15       0.000       0.867  "
      ]
     },
     "execution_count": 9,
     "metadata": {},
     "output_type": "execute_result"
    }
   ],
   "source": [
    "df = pd.read_csv('../docs/example/data/human_counts.csv', index_col=0)\n",
    "df.head()"
   ]
  },
  {
   "cell_type": "code",
   "execution_count": 10,
   "metadata": {},
   "outputs": [
    {
     "data": {
      "text/html": [
       "<div>\n",
       "<style scoped>\n",
       "    .dataframe tbody tr th:only-of-type {\n",
       "        vertical-align: middle;\n",
       "    }\n",
       "\n",
       "    .dataframe tbody tr th {\n",
       "        vertical-align: top;\n",
       "    }\n",
       "\n",
       "    .dataframe thead th {\n",
       "        text-align: right;\n",
       "    }\n",
       "</style>\n",
       "<table border=\"1\" class=\"dataframe\">\n",
       "  <thead>\n",
       "    <tr style=\"text-align: right;\">\n",
       "      <th></th>\n",
       "      <th>system</th>\n",
       "      <th>condition</th>\n",
       "    </tr>\n",
       "  </thead>\n",
       "  <tbody>\n",
       "    <tr>\n",
       "      <th>Human_ABCD1_1</th>\n",
       "      <td>Human</td>\n",
       "      <td>ABCD1</td>\n",
       "    </tr>\n",
       "    <tr>\n",
       "      <th>Human_ABCD1_2</th>\n",
       "      <td>Human</td>\n",
       "      <td>ABCD1</td>\n",
       "    </tr>\n",
       "    <tr>\n",
       "      <th>Human_ABCD1_3</th>\n",
       "      <td>Human</td>\n",
       "      <td>ABCD1</td>\n",
       "    </tr>\n",
       "    <tr>\n",
       "      <th>Human_NT_1</th>\n",
       "      <td>Human</td>\n",
       "      <td>NT</td>\n",
       "    </tr>\n",
       "    <tr>\n",
       "      <th>Human_NT_2</th>\n",
       "      <td>Human</td>\n",
       "      <td>NT</td>\n",
       "    </tr>\n",
       "  </tbody>\n",
       "</table>\n",
       "</div>"
      ],
      "text/plain": [
       "              system condition\n",
       "Human_ABCD1_1  Human     ABCD1\n",
       "Human_ABCD1_2  Human     ABCD1\n",
       "Human_ABCD1_3  Human     ABCD1\n",
       "Human_NT_1     Human        NT\n",
       "Human_NT_2     Human        NT"
      ]
     },
     "execution_count": 10,
     "metadata": {},
     "output_type": "execute_result"
    }
   ],
   "source": [
    "classes = pd.read_csv('../docs/example/data/human_classes.csv', index_col=0)\n",
    "classes.head()"
   ]
  },
  {
   "cell_type": "code",
   "execution_count": 11,
   "metadata": {},
   "outputs": [
    {
     "data": {
      "text/plain": [
       "PosixPath('/Users/alex/Documents/Axial/docs/example/heatmap.html')"
      ]
     },
     "execution_count": 11,
     "metadata": {},
     "output_type": "execute_result"
    }
   ],
   "source": [
    "ax.heatmap(df, classes, output_dir=\"../docs/example/\", data_mode=\"inline\", version=\"latest\")"
   ]
  },
  {
   "cell_type": "markdown",
   "metadata": {},
   "source": [
    "## Graph"
   ]
  },
  {
   "cell_type": "code",
   "execution_count": 12,
   "metadata": {},
   "outputs": [],
   "source": [
    "nxgraph = nx.read_gpickle(\"../docs/example/data/nxgraph.pickle\")"
   ]
  },
  {
   "cell_type": "code",
   "execution_count": 13,
   "metadata": {
    "scrolled": false
   },
   "outputs": [
    {
     "data": {
      "text/plain": [
       "PosixPath('/Users/alex/Documents/Axial/docs/example/graph.html')"
      ]
     },
     "execution_count": 13,
     "metadata": {},
     "output_type": "execute_result"
    }
   ],
   "source": [
    "ax.graph(nxgraph, output_dir=\"../docs/example/\", data_mode=\"inline\", version=\"latest\")"
   ]
  },
  {
   "cell_type": "code",
   "execution_count": null,
   "metadata": {},
   "outputs": [],
   "source": []
  }
 ],
 "metadata": {
  "kernelspec": {
   "display_name": "Python 3",
   "language": "python",
   "name": "python3"
  },
  "language_info": {
   "codemirror_mode": {
    "name": "ipython",
    "version": 3
   },
   "file_extension": ".py",
   "mimetype": "text/x-python",
   "name": "python",
   "nbconvert_exporter": "python",
   "pygments_lexer": "ipython3",
   "version": "3.7.2"
  }
 },
 "nbformat": 4,
 "nbformat_minor": 2
}
